{
 "cells": [
  {
   "cell_type": "code",
   "execution_count": 1,
   "metadata": {},
   "outputs": [],
   "source": [
    "import pandas as pd\n",
    "import matplotlib.pyplot as plt\n",
    "from pathlib import Path\n",
    "from glob import glob"
   ]
  },
  {
   "cell_type": "code",
   "execution_count": 2,
   "metadata": {},
   "outputs": [],
   "source": [
    "DATA = Path('Datasample/10')"
   ]
  },
  {
   "cell_type": "code",
   "execution_count": 3,
   "metadata": {},
   "outputs": [],
   "source": [
    "csvs = glob(str(DATA)+'/2*/*/*.csv')"
   ]
  },
  {
   "cell_type": "code",
   "execution_count": 4,
   "metadata": {},
   "outputs": [],
   "source": [
    "#Datasample from oct 2018, Days 20th - 29th"
   ]
  },
  {
   "cell_type": "code",
   "execution_count": 5,
   "metadata": {},
   "outputs": [
    {
     "data": {
      "text/plain": [
       "(14136,\n",
       " ['Datasample/10/24/07/Scadadata_2018-10-24_07-57-00.csv',\n",
       "  'Datasample/10/24/07/Scadadata_2018-10-24_07-00-00.csv',\n",
       "  'Datasample/10/24/07/Scadadata_2018-10-24_07-16-00.csv',\n",
       "  'Datasample/10/24/07/Scadadata_2018-10-24_07-25-00.csv',\n",
       "  'Datasample/10/24/07/Scadadata_2018-10-24_07-56-00.csv'])"
      ]
     },
     "execution_count": 5,
     "metadata": {},
     "output_type": "execute_result"
    }
   ],
   "source": [
    "len(csvs), csvs[:5]"
   ]
  },
  {
   "cell_type": "code",
   "execution_count": 6,
   "metadata": {},
   "outputs": [],
   "source": [
    "# All hosts"
   ]
  },
  {
   "cell_type": "code",
   "execution_count": 7,
   "metadata": {},
   "outputs": [],
   "source": [
    "host1 = 'AS01'\n",
    "host2 = 'AS02'\n",
    "host3 = 'AS03'\n",
    "host4 = 'AS04'\n",
    "host5 = 'AS05'\n",
    "host6 = 'AS06'\n",
    "host7 = 'AS07'\n",
    "host8 = 'AS08'\n",
    "host9 = 'AS09'\n",
    "host10 = 'AS10'\n",
    "host11 = 'AS11'\n",
    "host12 = 'AS12'\n",
    "host13 = 'DN_A'\n",
    "host14 = 'DN_V'"
   ]
  },
  {
   "cell_type": "code",
   "execution_count": null,
   "metadata": {},
   "outputs": [],
   "source": []
  },
  {
   "cell_type": "code",
   "execution_count": 8,
   "metadata": {},
   "outputs": [],
   "source": [
    "# Method for creating dataframe with content per host, returns df with dropped 12 hour time column"
   ]
  },
  {
   "cell_type": "code",
   "execution_count": 9,
   "metadata": {},
   "outputs": [],
   "source": [
    "def extract_host(host_name):\n",
    "    dfs = []\n",
    "    for csv in csvs:\n",
    "        current_df = pd.read_csv(csv, sep=';')\n",
    "        current_df = current_df.loc[current_df.Host == host_name]\n",
    "        dfs.append(current_df)\n",
    "    df1 = pd.concat(dfs)\n",
    "    df = df1.drop(columns=['Time.1'])\n",
    "    \n",
    "    return df"
   ]
  },
  {
   "cell_type": "code",
   "execution_count": 10,
   "metadata": {},
   "outputs": [],
   "source": [
    "# Method for creating dataframe with content per subst"
   ]
  },
  {
   "cell_type": "code",
   "execution_count": 11,
   "metadata": {},
   "outputs": [],
   "source": [
    "def extract_subs(csv, subs_name):\n",
    "    dfs = []\n",
    "    current_df = csv\n",
    "    current_df = current_df.loc[current_df.Subst == subs_name]\n",
    "    dfs.append(current_df)\n",
    "    df = pd.concat(dfs)\n",
    "    \n",
    "    return df"
   ]
  },
  {
   "cell_type": "code",
   "execution_count": 12,
   "metadata": {},
   "outputs": [],
   "source": [
    "# Method for creating dataframe by units"
   ]
  },
  {
   "cell_type": "code",
   "execution_count": 13,
   "metadata": {},
   "outputs": [],
   "source": [
    "def extract_unit(csv, unit):\n",
    "    dfs = []\n",
    "    current_df = csv\n",
    "    current_df = current_df.loc[current_df.Unit == unit]\n",
    "    dfs.append(current_df)\n",
    "    df = pd.concat(dfs)\n",
    "    \n",
    "    return df"
   ]
  },
  {
   "cell_type": "code",
   "execution_count": 14,
   "metadata": {},
   "outputs": [],
   "source": [
    "def extract_tag(csv, prefix):\n",
    "    dfs = []\n",
    "    series_tag = csv['Tag']\n",
    "    current_df = csv\n",
    "    current_df = current_df.loc[current_df.Tag]\n",
    "    dfs.append(current_df)\n",
    "    df = pd.concat(dfs)"
   ]
  },
  {
   "cell_type": "code",
   "execution_count": 15,
   "metadata": {},
   "outputs": [],
   "source": [
    "df_host1 = extract_host(host1)"
   ]
  },
  {
   "cell_type": "code",
   "execution_count": 16,
   "metadata": {},
   "outputs": [
    {
     "name": "stdout",
     "output_type": "stream",
     "text": [
      "<class 'pandas.core.frame.DataFrame'>\n",
      "Int64Index: 10828740 entries, 65 to 6170\n",
      "Data columns (total 7 columns):\n",
      "Tag            object\n",
      "Time           object\n",
      "Value          float64\n",
      "Host           object\n",
      "Subst          object\n",
      "Description    object\n",
      "Unit           object\n",
      "dtypes: float64(1), object(6)\n",
      "memory usage: 660.9+ MB\n"
     ]
    }
   ],
   "source": [
    "df_host1.info()"
   ]
  },
  {
   "cell_type": "code",
   "execution_count": 17,
   "metadata": {},
   "outputs": [
    {
     "data": {
      "text/html": [
       "<div>\n",
       "<style scoped>\n",
       "    .dataframe tbody tr th:only-of-type {\n",
       "        vertical-align: middle;\n",
       "    }\n",
       "\n",
       "    .dataframe tbody tr th {\n",
       "        vertical-align: top;\n",
       "    }\n",
       "\n",
       "    .dataframe thead th {\n",
       "        text-align: right;\n",
       "    }\n",
       "</style>\n",
       "<table border=\"1\" class=\"dataframe\">\n",
       "  <thead>\n",
       "    <tr style=\"text-align: right;\">\n",
       "      <th></th>\n",
       "      <th>Tag</th>\n",
       "      <th>Time</th>\n",
       "      <th>Value</th>\n",
       "      <th>Host</th>\n",
       "      <th>Subst</th>\n",
       "      <th>Description</th>\n",
       "      <th>Unit</th>\n",
       "    </tr>\n",
       "  </thead>\n",
       "  <tbody>\n",
       "    <tr>\n",
       "      <th>65</th>\n",
       "      <td>1201_8001_00.PD</td>\n",
       "      <td>2018-10-24 07:57:00</td>\n",
       "      <td>20.821</td>\n",
       "      <td>AS01</td>\n",
       "      <td>U2A1</td>\n",
       "      <td>Padrag regulator Laegdene</td>\n",
       "      <td>%</td>\n",
       "    </tr>\n",
       "    <tr>\n",
       "      <th>66</th>\n",
       "      <td>1201_8001_01</td>\n",
       "      <td>2018-10-24 07:57:00</td>\n",
       "      <td>29.521</td>\n",
       "      <td>AS01</td>\n",
       "      <td>U2A1</td>\n",
       "      <td>Motorstrom pumpe 1 Laegdene</td>\n",
       "      <td>A</td>\n",
       "    </tr>\n",
       "    <tr>\n",
       "      <th>67</th>\n",
       "      <td>1201_8001_01.PD</td>\n",
       "      <td>2018-10-24 07:57:00</td>\n",
       "      <td>83.284</td>\n",
       "      <td>AS01</td>\n",
       "      <td>U2A1</td>\n",
       "      <td>Padrag pumpe 1 Laegdene</td>\n",
       "      <td>%</td>\n",
       "    </tr>\n",
       "    <tr>\n",
       "      <th>68</th>\n",
       "      <td>1201_8001_02</td>\n",
       "      <td>2018-10-24 07:57:00</td>\n",
       "      <td>1.369</td>\n",
       "      <td>AS01</td>\n",
       "      <td>U2A1</td>\n",
       "      <td>Motorstrom pumpe 2 Laegdene</td>\n",
       "      <td>A</td>\n",
       "    </tr>\n",
       "    <tr>\n",
       "      <th>69</th>\n",
       "      <td>1201_8001_02.PD</td>\n",
       "      <td>2018-10-24 07:57:00</td>\n",
       "      <td>0.000</td>\n",
       "      <td>AS01</td>\n",
       "      <td>U2A1</td>\n",
       "      <td>Padrag pumpe 2 Laegdene</td>\n",
       "      <td>%</td>\n",
       "    </tr>\n",
       "  </tbody>\n",
       "</table>\n",
       "</div>"
      ],
      "text/plain": [
       "                Tag                 Time   Value  Host Subst  \\\n",
       "65  1201_8001_00.PD  2018-10-24 07:57:00  20.821  AS01  U2A1   \n",
       "66     1201_8001_01  2018-10-24 07:57:00  29.521  AS01  U2A1   \n",
       "67  1201_8001_01.PD  2018-10-24 07:57:00  83.284  AS01  U2A1   \n",
       "68     1201_8001_02  2018-10-24 07:57:00   1.369  AS01  U2A1   \n",
       "69  1201_8001_02.PD  2018-10-24 07:57:00   0.000  AS01  U2A1   \n",
       "\n",
       "                     Description Unit  \n",
       "65    Padrag regulator Laegdene     %  \n",
       "66  Motorstrom pumpe 1 Laegdene     A  \n",
       "67      Padrag pumpe 1 Laegdene     %  \n",
       "68  Motorstrom pumpe 2 Laegdene     A  \n",
       "69      Padrag pumpe 2 Laegdene     %  "
      ]
     },
     "execution_count": 17,
     "metadata": {},
     "output_type": "execute_result"
    }
   ],
   "source": [
    "df_host1.head()"
   ]
  },
  {
   "cell_type": "code",
   "execution_count": 22,
   "metadata": {},
   "outputs": [
    {
     "data": {
      "text/plain": [
       "array(['%', 'A', 'kote', 'm', 'Bar', 'm3/t', 'Gr.C', 'mVs', 'Kote', 'kW',\n",
       "       'kVAr', 'kWh', 'kVA', 'CosF', 'V', 'Amp', 'Hz', 'mm/s', 'VDC',\n",
       "       'grdC', 'bar', 'rpm', 'sek', 'moh', 'dgc', 'HZ', 'kvar', 'kva',\n",
       "       'pH', 'grC', 'NTU', 'mg/l', 'Hazen', 'Ph', 'csx', 'gr.C', 'l/sek.',\n",
       "       'mvs', 'kg', 'Kg', 'kg/t', 'Vol%', 'l/t', 'liter', 'm3', 'mbar',\n",
       "       'W/m2', 'w/m2', 'noe', 'rndm', 'Ws/m2', 'm/s', 'deg.M', 'mm',\n",
       "       'mm/t', 'cm', ' ', nan, 'l/s', 'Nm', 'PH', 'Nr', '% H20', 'kw',\n",
       "       'VOL%', 'g/m3', 'l', 'nn', '%RH', 'HHMM', 'min', 'ant', 'grd'],\n",
       "      dtype=object)"
      ]
     },
     "execution_count": 22,
     "metadata": {},
     "output_type": "execute_result"
    }
   ],
   "source": [
    "df_host1.Unit.unique()"
   ]
  },
  {
   "cell_type": "code",
   "execution_count": 23,
   "metadata": {},
   "outputs": [],
   "source": [
    "df_extracted_flow_host1 = extract_unit(df_host1, 'm3/t')"
   ]
  },
  {
   "cell_type": "code",
   "execution_count": 24,
   "metadata": {},
   "outputs": [
    {
     "name": "stdout",
     "output_type": "stream",
     "text": [
      "<class 'pandas.core.frame.DataFrame'>\n",
      "Int64Index: 1381794 entries, 75 to 6170\n",
      "Data columns (total 7 columns):\n",
      "Tag            1381794 non-null object\n",
      "Time           1381794 non-null object\n",
      "Value          1381794 non-null float64\n",
      "Host           1381794 non-null object\n",
      "Subst          1381794 non-null object\n",
      "Description    1381794 non-null object\n",
      "Unit           1381794 non-null object\n",
      "dtypes: float64(1), object(6)\n",
      "memory usage: 84.3+ MB\n"
     ]
    }
   ],
   "source": [
    "df_extracted_flow_host1.info()"
   ]
  },
  {
   "cell_type": "code",
   "execution_count": 25,
   "metadata": {},
   "outputs": [
    {
     "data": {
      "text/html": [
       "<div>\n",
       "<style scoped>\n",
       "    .dataframe tbody tr th:only-of-type {\n",
       "        vertical-align: middle;\n",
       "    }\n",
       "\n",
       "    .dataframe tbody tr th {\n",
       "        vertical-align: top;\n",
       "    }\n",
       "\n",
       "    .dataframe thead th {\n",
       "        text-align: right;\n",
       "    }\n",
       "</style>\n",
       "<table border=\"1\" class=\"dataframe\">\n",
       "  <thead>\n",
       "    <tr style=\"text-align: right;\">\n",
       "      <th></th>\n",
       "      <th>Tag</th>\n",
       "      <th>Time</th>\n",
       "      <th>Value</th>\n",
       "      <th>Host</th>\n",
       "      <th>Subst</th>\n",
       "      <th>Description</th>\n",
       "      <th>Unit</th>\n",
       "    </tr>\n",
       "  </thead>\n",
       "  <tbody>\n",
       "    <tr>\n",
       "      <th>75</th>\n",
       "      <td>1201_8001_06</td>\n",
       "      <td>2018-10-24 07:57:00</td>\n",
       "      <td>12.688</td>\n",
       "      <td>AS01</td>\n",
       "      <td>U2A1</td>\n",
       "      <td>Vannmengde pumpestasjon Laegdene</td>\n",
       "      <td>m3/t</td>\n",
       "    </tr>\n",
       "    <tr>\n",
       "      <th>77</th>\n",
       "      <td>1201_8001_08</td>\n",
       "      <td>2018-10-24 07:57:00</td>\n",
       "      <td>111.828</td>\n",
       "      <td>AS01</td>\n",
       "      <td>U2A1</td>\n",
       "      <td>Vannmengde inn basseng Laegdene</td>\n",
       "      <td>m3/t</td>\n",
       "    </tr>\n",
       "    <tr>\n",
       "      <th>78</th>\n",
       "      <td>1201_8001_08.UT</td>\n",
       "      <td>2018-10-24 07:57:00</td>\n",
       "      <td>0.000</td>\n",
       "      <td>AS01</td>\n",
       "      <td>U2A1</td>\n",
       "      <td>Vannmengde ut  basseng Laegdene</td>\n",
       "      <td>m3/t</td>\n",
       "    </tr>\n",
       "    <tr>\n",
       "      <th>79</th>\n",
       "      <td>1201_8001_09</td>\n",
       "      <td>2018-10-24 07:57:00</td>\n",
       "      <td>91.887</td>\n",
       "      <td>AS01</td>\n",
       "      <td>U2A1</td>\n",
       "      <td>Vannmengde ut basseng Laegdene</td>\n",
       "      <td>m3/t</td>\n",
       "    </tr>\n",
       "    <tr>\n",
       "      <th>80</th>\n",
       "      <td>1201_8001_09.INN</td>\n",
       "      <td>2018-10-24 07:57:00</td>\n",
       "      <td>0.000</td>\n",
       "      <td>AS01</td>\n",
       "      <td>U2A1</td>\n",
       "      <td>Vannmengde inn basseng Laegdene</td>\n",
       "      <td>m3/t</td>\n",
       "    </tr>\n",
       "  </tbody>\n",
       "</table>\n",
       "</div>"
      ],
      "text/plain": [
       "                 Tag                 Time    Value  Host Subst  \\\n",
       "75      1201_8001_06  2018-10-24 07:57:00   12.688  AS01  U2A1   \n",
       "77      1201_8001_08  2018-10-24 07:57:00  111.828  AS01  U2A1   \n",
       "78   1201_8001_08.UT  2018-10-24 07:57:00    0.000  AS01  U2A1   \n",
       "79      1201_8001_09  2018-10-24 07:57:00   91.887  AS01  U2A1   \n",
       "80  1201_8001_09.INN  2018-10-24 07:57:00    0.000  AS01  U2A1   \n",
       "\n",
       "                         Description  Unit  \n",
       "75  Vannmengde pumpestasjon Laegdene  m3/t  \n",
       "77  Vannmengde inn basseng Laegdene   m3/t  \n",
       "78  Vannmengde ut  basseng Laegdene   m3/t  \n",
       "79    Vannmengde ut basseng Laegdene  m3/t  \n",
       "80  Vannmengde inn basseng Laegdene   m3/t  "
      ]
     },
     "execution_count": 25,
     "metadata": {},
     "output_type": "execute_result"
    }
   ],
   "source": [
    "df_extracted_flow_host1.head()"
   ]
  },
  {
   "cell_type": "code",
   "execution_count": 26,
   "metadata": {},
   "outputs": [],
   "source": [
    "# Convert the 'Time' column to datetime64 series"
   ]
  },
  {
   "cell_type": "code",
   "execution_count": 27,
   "metadata": {},
   "outputs": [],
   "source": [
    "def convert_time_col(csv):\n",
    "    series_dt64_converted = pd.to_datetime(csv['Time'])\n",
    "    csv['Time'] = series_dt64_converted\n",
    "    return csv"
   ]
  },
  {
   "cell_type": "code",
   "execution_count": 28,
   "metadata": {},
   "outputs": [],
   "source": [
    "df_flow_host1 = convert_time_col(df_extracted_flow_host1)"
   ]
  },
  {
   "cell_type": "code",
   "execution_count": 29,
   "metadata": {},
   "outputs": [
    {
     "name": "stdout",
     "output_type": "stream",
     "text": [
      "<class 'pandas.core.frame.DataFrame'>\n",
      "Int64Index: 1381794 entries, 75 to 6170\n",
      "Data columns (total 7 columns):\n",
      "Tag            1381794 non-null object\n",
      "Time           1381794 non-null datetime64[ns]\n",
      "Value          1381794 non-null float64\n",
      "Host           1381794 non-null object\n",
      "Subst          1381794 non-null object\n",
      "Description    1381794 non-null object\n",
      "Unit           1381794 non-null object\n",
      "dtypes: datetime64[ns](1), float64(1), object(5)\n",
      "memory usage: 84.3+ MB\n"
     ]
    }
   ],
   "source": [
    "df_flow_host1.info()"
   ]
  },
  {
   "cell_type": "code",
   "execution_count": 30,
   "metadata": {},
   "outputs": [
    {
     "data": {
      "text/plain": [
       "array(['U2A1', 'U4A1', 'U5A1', 'U6A1', 'U3A1', 'RAPP', 'U7A1', 'ESPE'],\n",
       "      dtype=object)"
      ]
     },
     "execution_count": 30,
     "metadata": {},
     "output_type": "execute_result"
    }
   ],
   "source": [
    "df_flow_host1.Subst.unique()"
   ]
  },
  {
   "cell_type": "code",
   "execution_count": 31,
   "metadata": {},
   "outputs": [],
   "source": [
    "# Extract all subst within the Host"
   ]
  },
  {
   "cell_type": "code",
   "execution_count": 32,
   "metadata": {},
   "outputs": [],
   "source": [
    "df_host1_U2A1 = extract_subs(df_flow_host1, 'U2A1')"
   ]
  },
  {
   "cell_type": "code",
   "execution_count": 33,
   "metadata": {},
   "outputs": [],
   "source": [
    "df_host1_U4A1 = extract_subs(df_flow_host1, 'U4A1')"
   ]
  },
  {
   "cell_type": "code",
   "execution_count": 34,
   "metadata": {},
   "outputs": [],
   "source": [
    "df_host1_U5A1 = extract_subs(df_flow_host1, 'U5A1')"
   ]
  },
  {
   "cell_type": "code",
   "execution_count": 35,
   "metadata": {},
   "outputs": [],
   "source": [
    "df_host1_U6A1 = extract_subs(df_flow_host1, 'U6A1')"
   ]
  },
  {
   "cell_type": "code",
   "execution_count": 36,
   "metadata": {},
   "outputs": [],
   "source": [
    "df_host1_U3A1 = extract_subs(df_flow_host1, 'U3A1')"
   ]
  },
  {
   "cell_type": "code",
   "execution_count": 37,
   "metadata": {},
   "outputs": [],
   "source": [
    "df_host1_RAPP = extract_subs(df_flow_host1, 'RAPP')"
   ]
  },
  {
   "cell_type": "code",
   "execution_count": 38,
   "metadata": {},
   "outputs": [],
   "source": [
    "df_host1_U7A1 = extract_subs(df_flow_host1, 'U7A1')"
   ]
  },
  {
   "cell_type": "code",
   "execution_count": 39,
   "metadata": {},
   "outputs": [],
   "source": [
    "df_host1_ESPE = extract_subs(df_flow_host1, 'ESPE')"
   ]
  },
  {
   "cell_type": "code",
   "execution_count": null,
   "metadata": {},
   "outputs": [],
   "source": []
  },
  {
   "cell_type": "code",
   "execution_count": 40,
   "metadata": {},
   "outputs": [],
   "source": [
    "df_test = df_host1_U2A1"
   ]
  },
  {
   "cell_type": "code",
   "execution_count": 41,
   "metadata": {},
   "outputs": [
    {
     "data": {
      "text/html": [
       "<div>\n",
       "<style scoped>\n",
       "    .dataframe tbody tr th:only-of-type {\n",
       "        vertical-align: middle;\n",
       "    }\n",
       "\n",
       "    .dataframe tbody tr th {\n",
       "        vertical-align: top;\n",
       "    }\n",
       "\n",
       "    .dataframe thead th {\n",
       "        text-align: right;\n",
       "    }\n",
       "</style>\n",
       "<table border=\"1\" class=\"dataframe\">\n",
       "  <thead>\n",
       "    <tr style=\"text-align: right;\">\n",
       "      <th></th>\n",
       "      <th>Tag</th>\n",
       "      <th>Time</th>\n",
       "      <th>Value</th>\n",
       "      <th>Host</th>\n",
       "      <th>Subst</th>\n",
       "      <th>Description</th>\n",
       "      <th>Unit</th>\n",
       "    </tr>\n",
       "  </thead>\n",
       "  <tbody>\n",
       "    <tr>\n",
       "      <th>75</th>\n",
       "      <td>1201_8001_06</td>\n",
       "      <td>2018-10-24 07:57:00</td>\n",
       "      <td>12.688</td>\n",
       "      <td>AS01</td>\n",
       "      <td>U2A1</td>\n",
       "      <td>Vannmengde pumpestasjon Laegdene</td>\n",
       "      <td>m3/t</td>\n",
       "    </tr>\n",
       "    <tr>\n",
       "      <th>77</th>\n",
       "      <td>1201_8001_08</td>\n",
       "      <td>2018-10-24 07:57:00</td>\n",
       "      <td>111.828</td>\n",
       "      <td>AS01</td>\n",
       "      <td>U2A1</td>\n",
       "      <td>Vannmengde inn basseng Laegdene</td>\n",
       "      <td>m3/t</td>\n",
       "    </tr>\n",
       "    <tr>\n",
       "      <th>78</th>\n",
       "      <td>1201_8001_08.UT</td>\n",
       "      <td>2018-10-24 07:57:00</td>\n",
       "      <td>0.000</td>\n",
       "      <td>AS01</td>\n",
       "      <td>U2A1</td>\n",
       "      <td>Vannmengde ut  basseng Laegdene</td>\n",
       "      <td>m3/t</td>\n",
       "    </tr>\n",
       "    <tr>\n",
       "      <th>79</th>\n",
       "      <td>1201_8001_09</td>\n",
       "      <td>2018-10-24 07:57:00</td>\n",
       "      <td>91.887</td>\n",
       "      <td>AS01</td>\n",
       "      <td>U2A1</td>\n",
       "      <td>Vannmengde ut basseng Laegdene</td>\n",
       "      <td>m3/t</td>\n",
       "    </tr>\n",
       "    <tr>\n",
       "      <th>80</th>\n",
       "      <td>1201_8001_09.INN</td>\n",
       "      <td>2018-10-24 07:57:00</td>\n",
       "      <td>0.000</td>\n",
       "      <td>AS01</td>\n",
       "      <td>U2A1</td>\n",
       "      <td>Vannmengde inn basseng Laegdene</td>\n",
       "      <td>m3/t</td>\n",
       "    </tr>\n",
       "  </tbody>\n",
       "</table>\n",
       "</div>"
      ],
      "text/plain": [
       "                 Tag                Time    Value  Host Subst  \\\n",
       "75      1201_8001_06 2018-10-24 07:57:00   12.688  AS01  U2A1   \n",
       "77      1201_8001_08 2018-10-24 07:57:00  111.828  AS01  U2A1   \n",
       "78   1201_8001_08.UT 2018-10-24 07:57:00    0.000  AS01  U2A1   \n",
       "79      1201_8001_09 2018-10-24 07:57:00   91.887  AS01  U2A1   \n",
       "80  1201_8001_09.INN 2018-10-24 07:57:00    0.000  AS01  U2A1   \n",
       "\n",
       "                         Description  Unit  \n",
       "75  Vannmengde pumpestasjon Laegdene  m3/t  \n",
       "77  Vannmengde inn basseng Laegdene   m3/t  \n",
       "78  Vannmengde ut  basseng Laegdene   m3/t  \n",
       "79    Vannmengde ut basseng Laegdene  m3/t  \n",
       "80  Vannmengde inn basseng Laegdene   m3/t  "
      ]
     },
     "execution_count": 41,
     "metadata": {},
     "output_type": "execute_result"
    }
   ],
   "source": [
    "df_test.head()"
   ]
  },
  {
   "cell_type": "code",
   "execution_count": 42,
   "metadata": {},
   "outputs": [],
   "source": [
    "df_test = df_test.set_index('Time')"
   ]
  },
  {
   "cell_type": "code",
   "execution_count": 43,
   "metadata": {},
   "outputs": [
    {
     "data": {
      "text/html": [
       "<div>\n",
       "<style scoped>\n",
       "    .dataframe tbody tr th:only-of-type {\n",
       "        vertical-align: middle;\n",
       "    }\n",
       "\n",
       "    .dataframe tbody tr th {\n",
       "        vertical-align: top;\n",
       "    }\n",
       "\n",
       "    .dataframe thead th {\n",
       "        text-align: right;\n",
       "    }\n",
       "</style>\n",
       "<table border=\"1\" class=\"dataframe\">\n",
       "  <thead>\n",
       "    <tr style=\"text-align: right;\">\n",
       "      <th></th>\n",
       "      <th>Tag</th>\n",
       "      <th>Value</th>\n",
       "      <th>Host</th>\n",
       "      <th>Subst</th>\n",
       "      <th>Description</th>\n",
       "      <th>Unit</th>\n",
       "    </tr>\n",
       "    <tr>\n",
       "      <th>Time</th>\n",
       "      <th></th>\n",
       "      <th></th>\n",
       "      <th></th>\n",
       "      <th></th>\n",
       "      <th></th>\n",
       "      <th></th>\n",
       "    </tr>\n",
       "  </thead>\n",
       "  <tbody>\n",
       "    <tr>\n",
       "      <th>2018-10-24 07:57:00</th>\n",
       "      <td>1201_8001_06</td>\n",
       "      <td>12.688</td>\n",
       "      <td>AS01</td>\n",
       "      <td>U2A1</td>\n",
       "      <td>Vannmengde pumpestasjon Laegdene</td>\n",
       "      <td>m3/t</td>\n",
       "    </tr>\n",
       "    <tr>\n",
       "      <th>2018-10-24 07:57:00</th>\n",
       "      <td>1201_8001_08</td>\n",
       "      <td>111.828</td>\n",
       "      <td>AS01</td>\n",
       "      <td>U2A1</td>\n",
       "      <td>Vannmengde inn basseng Laegdene</td>\n",
       "      <td>m3/t</td>\n",
       "    </tr>\n",
       "    <tr>\n",
       "      <th>2018-10-24 07:57:00</th>\n",
       "      <td>1201_8001_08.UT</td>\n",
       "      <td>0.000</td>\n",
       "      <td>AS01</td>\n",
       "      <td>U2A1</td>\n",
       "      <td>Vannmengde ut  basseng Laegdene</td>\n",
       "      <td>m3/t</td>\n",
       "    </tr>\n",
       "    <tr>\n",
       "      <th>2018-10-24 07:57:00</th>\n",
       "      <td>1201_8001_09</td>\n",
       "      <td>91.887</td>\n",
       "      <td>AS01</td>\n",
       "      <td>U2A1</td>\n",
       "      <td>Vannmengde ut basseng Laegdene</td>\n",
       "      <td>m3/t</td>\n",
       "    </tr>\n",
       "    <tr>\n",
       "      <th>2018-10-24 07:57:00</th>\n",
       "      <td>1201_8001_09.INN</td>\n",
       "      <td>0.000</td>\n",
       "      <td>AS01</td>\n",
       "      <td>U2A1</td>\n",
       "      <td>Vannmengde inn basseng Laegdene</td>\n",
       "      <td>m3/t</td>\n",
       "    </tr>\n",
       "  </tbody>\n",
       "</table>\n",
       "</div>"
      ],
      "text/plain": [
       "                                  Tag    Value  Host Subst  \\\n",
       "Time                                                         \n",
       "2018-10-24 07:57:00      1201_8001_06   12.688  AS01  U2A1   \n",
       "2018-10-24 07:57:00      1201_8001_08  111.828  AS01  U2A1   \n",
       "2018-10-24 07:57:00   1201_8001_08.UT    0.000  AS01  U2A1   \n",
       "2018-10-24 07:57:00      1201_8001_09   91.887  AS01  U2A1   \n",
       "2018-10-24 07:57:00  1201_8001_09.INN    0.000  AS01  U2A1   \n",
       "\n",
       "                                          Description  Unit  \n",
       "Time                                                         \n",
       "2018-10-24 07:57:00  Vannmengde pumpestasjon Laegdene  m3/t  \n",
       "2018-10-24 07:57:00  Vannmengde inn basseng Laegdene   m3/t  \n",
       "2018-10-24 07:57:00  Vannmengde ut  basseng Laegdene   m3/t  \n",
       "2018-10-24 07:57:00    Vannmengde ut basseng Laegdene  m3/t  \n",
       "2018-10-24 07:57:00  Vannmengde inn basseng Laegdene   m3/t  "
      ]
     },
     "execution_count": 43,
     "metadata": {},
     "output_type": "execute_result"
    }
   ],
   "source": [
    "df_test.head()"
   ]
  },
  {
   "cell_type": "code",
   "execution_count": 44,
   "metadata": {},
   "outputs": [],
   "source": [
    "df_result = df_test.loc['2018-10-20 07:00:00':'2018-10-20 08:00:00']"
   ]
  },
  {
   "cell_type": "code",
   "execution_count": 45,
   "metadata": {},
   "outputs": [],
   "source": [
    "def plot_flow(df, title):\n",
    "    ax = df.plot(figsize=(20,7))\n",
    "    ax.set_xlabel('Time')\n",
    "    ax.set_ylabel('Flow in m3/h')\n",
    "    ax.set_title(title)\n",
    "    plt.style.use('seaborn-paper')\n",
    "    plt.show()"
   ]
  },
  {
   "cell_type": "code",
   "execution_count": 46,
   "metadata": {},
   "outputs": [
    {
     "data": {
      "image/png": "[encoded data removed]",
      "text/plain": [
       "<Figure size 1440x504 with 1 Axes>"
      ]
     },
     "metadata": {
      "needs_background": "light"
     },
     "output_type": "display_data"
    }
   ],
   "source": [
    "plot_flow(df_result, 'Flow all sensors. Host AS01 - Subst U2A1, 1 hour')"
   ]
  },
  {
   "cell_type": "code",
   "execution_count": 47,
   "metadata": {},
   "outputs": [],
   "source": [
    "df_test2 = df_result"
   ]
  },
  {
   "cell_type": "code",
   "execution_count": 48,
   "metadata": {},
   "outputs": [],
   "source": [
    "df_test2_res = df_test2[df_test2['Tag'].str.match('1201')]"
   ]
  },
  {
   "cell_type": "code",
   "execution_count": 49,
   "metadata": {},
   "outputs": [
    {
     "data": {
      "text/plain": [
       "array(['1201_8001_06', '1201_8001_08', '1201_8001_08.UT', '1201_8001_09',\n",
       "       '1201_8001_09.INN'], dtype=object)"
      ]
     },
     "execution_count": 49,
     "metadata": {},
     "output_type": "execute_result"
    }
   ],
   "source": [
    "df_test2_res.Tag.unique()"
   ]
  },
  {
   "cell_type": "code",
   "execution_count": 50,
   "metadata": {},
   "outputs": [
    {
     "data": {
      "image/png": "[encoded data removed]",
      "text/plain": [
       "<Figure size 1440x504 with 1 Axes>"
      ]
     },
     "metadata": {
      "needs_background": "light"
     },
     "output_type": "display_data"
    }
   ],
   "source": [
    "plot_flow(df_test2_res, 'Flow 1201_*. Host AS01 - Subst U2A1, 1 hour')"
   ]
  },
  {
   "cell_type": "code",
   "execution_count": 51,
   "metadata": {},
   "outputs": [],
   "source": [
    "df_test3 = df_result"
   ]
  },
  {
   "cell_type": "code",
   "execution_count": 56,
   "metadata": {},
   "outputs": [],
   "source": [
    "df_test3_res = df_test3[df_test3['Tag'].str.match('1201_8001_08')]"
   ]
  },
  {
   "cell_type": "code",
   "execution_count": 57,
   "metadata": {},
   "outputs": [
    {
     "data": {
      "image/png": "[encoded data removed]",
      "text/plain": [
       "<Figure size 1440x504 with 1 Axes>"
      ]
     },
     "metadata": {
      "needs_background": "light"
     },
     "output_type": "display_data"
    }
   ],
   "source": [
    "plot_flow(df_test3_res, 'Flow 1201_8001_09, Host AS01 - Subst U2A1, 1 hour')"
   ]
  },
  {
   "cell_type": "code",
   "execution_count": null,
   "metadata": {},
   "outputs": [],
   "source": []
  }
 ],
 "metadata": {
  "kernelspec": {
   "display_name": "Python 3",
   "language": "python",
   "name": "python3"
  },
  "language_info": {
   "codemirror_mode": {
    "name": "ipython",
    "version": 3
   },
   "file_extension": ".py",
   "mimetype": "text/x-python",
   "name": "python",
   "nbconvert_exporter": "python",
   "pygments_lexer": "ipython3",
   "version": "3.6.6"
  }
 },
 "nbformat": 4,
 "nbformat_minor": 2
}
